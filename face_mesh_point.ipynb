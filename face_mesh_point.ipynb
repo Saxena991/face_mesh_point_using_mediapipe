{
 "cells": [
  {
   "cell_type": "code",
   "execution_count": 2,
   "id": "2481c37f",
   "metadata": {},
   "outputs": [
    {
     "data": {
      "text/plain": [
       "-1"
      ]
     },
     "execution_count": 2,
     "metadata": {},
     "output_type": "execute_result"
    }
   ],
   "source": [
    "import cv2\n",
    "import mediapipe as mp\n",
    "# face Mesh\n",
    "mp_face_mesh = mp.solutions.face_mesh\n",
    "face_mesh = mp_face_mesh.FaceMesh()\n",
    "\n",
    "#image\n",
    "img = cv2.imread(\"./shivam.jpg\")\n",
    "height, width,_ = img.shape\n",
    "\n",
    "rgb_img = cv2.cvtColor(img, cv2.COLOR_BGR2RGB)\n",
    "\n",
    "#facial_landmarks\n",
    "result = face_mesh.process(rgb_img)\n",
    "for facial_landmarks in result.multi_face_landmarks:\n",
    "    for i in range(0,468):\n",
    "        pt1 = facial_landmarks.landmark[i]\n",
    "        x = int(pt1.x*width)\n",
    "        y = int(pt1.y*height)\n",
    "        cv2.circle(img,(x,y),1,(250,255,100),1)\n",
    "    \n",
    "    \n",
    "cv2.imshow(\"image\", img)\n",
    "cv2.imwrite(\"image.jpg\",img)\n",
    "\n",
    "cv2.waitKey(0)"
   ]
  }
 ],
 "metadata": {
  "kernelspec": {
   "display_name": "Python 3 (ipykernel)",
   "language": "python",
   "name": "python3"
  },
  "language_info": {
   "codemirror_mode": {
    "name": "ipython",
    "version": 3
   },
   "file_extension": ".py",
   "mimetype": "text/x-python",
   "name": "python",
   "nbconvert_exporter": "python",
   "pygments_lexer": "ipython3",
   "version": "3.8.13"
  }
 },
 "nbformat": 4,
 "nbformat_minor": 5
}
